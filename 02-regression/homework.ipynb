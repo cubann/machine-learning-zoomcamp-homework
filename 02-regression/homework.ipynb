{
 "cells": [
  {
   "cell_type": "code",
   "execution_count": 4,
   "id": "aa94634e-5775-4554-b55f-5e8db5760726",
   "metadata": {},
   "outputs": [],
   "source": [
    "import pandas as pd\n",
    "import numpy as np"
   ]
  },
  {
   "cell_type": "code",
   "execution_count": 5,
   "id": "85ce1048-9f91-4934-bcc6-c9c1df8a79cb",
   "metadata": {},
   "outputs": [
    {
     "name": "stdout",
     "output_type": "stream",
     "text": [
      "(9704, 11)\n",
      "\n",
      "Columns: ['engine_displacement', 'num_cylinders', 'horsepower', 'vehicle_weight', 'acceleration', 'model_year', 'origin', 'fuel_type', 'drivetrain', 'num_doors', 'fuel_efficiency_mpg']\n"
     ]
    },
    {
     "data": {
      "text/html": [
       "<div>\n",
       "<style scoped>\n",
       "    .dataframe tbody tr th:only-of-type {\n",
       "        vertical-align: middle;\n",
       "    }\n",
       "\n",
       "    .dataframe tbody tr th {\n",
       "        vertical-align: top;\n",
       "    }\n",
       "\n",
       "    .dataframe thead th {\n",
       "        text-align: right;\n",
       "    }\n",
       "</style>\n",
       "<table border=\"1\" class=\"dataframe\">\n",
       "  <thead>\n",
       "    <tr style=\"text-align: right;\">\n",
       "      <th></th>\n",
       "      <th>engine_displacement</th>\n",
       "      <th>num_cylinders</th>\n",
       "      <th>horsepower</th>\n",
       "      <th>vehicle_weight</th>\n",
       "      <th>acceleration</th>\n",
       "      <th>model_year</th>\n",
       "      <th>origin</th>\n",
       "      <th>fuel_type</th>\n",
       "      <th>drivetrain</th>\n",
       "      <th>num_doors</th>\n",
       "      <th>fuel_efficiency_mpg</th>\n",
       "    </tr>\n",
       "  </thead>\n",
       "  <tbody>\n",
       "    <tr>\n",
       "      <th>0</th>\n",
       "      <td>170</td>\n",
       "      <td>3.0</td>\n",
       "      <td>159.0</td>\n",
       "      <td>3413.433759</td>\n",
       "      <td>17.7</td>\n",
       "      <td>2003</td>\n",
       "      <td>Europe</td>\n",
       "      <td>Gasoline</td>\n",
       "      <td>All-wheel drive</td>\n",
       "      <td>0.0</td>\n",
       "      <td>13.231729</td>\n",
       "    </tr>\n",
       "    <tr>\n",
       "      <th>1</th>\n",
       "      <td>130</td>\n",
       "      <td>5.0</td>\n",
       "      <td>97.0</td>\n",
       "      <td>3149.664934</td>\n",
       "      <td>17.8</td>\n",
       "      <td>2007</td>\n",
       "      <td>USA</td>\n",
       "      <td>Gasoline</td>\n",
       "      <td>Front-wheel drive</td>\n",
       "      <td>0.0</td>\n",
       "      <td>13.688217</td>\n",
       "    </tr>\n",
       "    <tr>\n",
       "      <th>2</th>\n",
       "      <td>170</td>\n",
       "      <td>NaN</td>\n",
       "      <td>78.0</td>\n",
       "      <td>3079.038997</td>\n",
       "      <td>15.1</td>\n",
       "      <td>2018</td>\n",
       "      <td>Europe</td>\n",
       "      <td>Gasoline</td>\n",
       "      <td>Front-wheel drive</td>\n",
       "      <td>0.0</td>\n",
       "      <td>14.246341</td>\n",
       "    </tr>\n",
       "    <tr>\n",
       "      <th>3</th>\n",
       "      <td>220</td>\n",
       "      <td>4.0</td>\n",
       "      <td>NaN</td>\n",
       "      <td>2542.392402</td>\n",
       "      <td>20.2</td>\n",
       "      <td>2009</td>\n",
       "      <td>USA</td>\n",
       "      <td>Diesel</td>\n",
       "      <td>All-wheel drive</td>\n",
       "      <td>2.0</td>\n",
       "      <td>16.912736</td>\n",
       "    </tr>\n",
       "    <tr>\n",
       "      <th>4</th>\n",
       "      <td>210</td>\n",
       "      <td>1.0</td>\n",
       "      <td>140.0</td>\n",
       "      <td>3460.870990</td>\n",
       "      <td>14.4</td>\n",
       "      <td>2009</td>\n",
       "      <td>Europe</td>\n",
       "      <td>Gasoline</td>\n",
       "      <td>All-wheel drive</td>\n",
       "      <td>2.0</td>\n",
       "      <td>12.488369</td>\n",
       "    </tr>\n",
       "  </tbody>\n",
       "</table>\n",
       "</div>"
      ],
      "text/plain": [
       "   engine_displacement  num_cylinders  horsepower  vehicle_weight  \\\n",
       "0                  170            3.0       159.0     3413.433759   \n",
       "1                  130            5.0        97.0     3149.664934   \n",
       "2                  170            NaN        78.0     3079.038997   \n",
       "3                  220            4.0         NaN     2542.392402   \n",
       "4                  210            1.0       140.0     3460.870990   \n",
       "\n",
       "   acceleration  model_year  origin fuel_type         drivetrain  num_doors  \\\n",
       "0          17.7        2003  Europe  Gasoline    All-wheel drive        0.0   \n",
       "1          17.8        2007     USA  Gasoline  Front-wheel drive        0.0   \n",
       "2          15.1        2018  Europe  Gasoline  Front-wheel drive        0.0   \n",
       "3          20.2        2009     USA    Diesel    All-wheel drive        2.0   \n",
       "4          14.4        2009  Europe  Gasoline    All-wheel drive        2.0   \n",
       "\n",
       "   fuel_efficiency_mpg  \n",
       "0            13.231729  \n",
       "1            13.688217  \n",
       "2            14.246341  \n",
       "3            16.912736  \n",
       "4            12.488369  "
      ]
     },
     "execution_count": 5,
     "metadata": {},
     "output_type": "execute_result"
    }
   ],
   "source": [
    "# Load the dataset\n",
    "url = 'https://raw.githubusercontent.com/alexeygrigorev/datasets/master/car_fuel_efficiency.csv'\n",
    "df = pd.read_csv(url)\n",
    "\n",
    "print(f\"{df.shape}\")\n",
    "print(f\"\\nColumns: {df.columns.tolist()}\")\n",
    "df.head()"
   ]
  },
  {
   "cell_type": "code",
   "execution_count": 6,
   "id": "401a7992-3284-453f-9eda-4c72d01bac4b",
   "metadata": {},
   "outputs": [
    {
     "name": "stdout",
     "output_type": "stream",
     "text": [
      "Selected dataset shape: (9704, 5)\n",
      "<class 'pandas.core.frame.DataFrame'>\n",
      "RangeIndex: 9704 entries, 0 to 9703\n",
      "Data columns (total 5 columns):\n",
      " #   Column               Non-Null Count  Dtype  \n",
      "---  ------               --------------  -----  \n",
      " 0   engine_displacement  9704 non-null   int64  \n",
      " 1   horsepower           8996 non-null   float64\n",
      " 2   vehicle_weight       9704 non-null   float64\n",
      " 3   model_year           9704 non-null   int64  \n",
      " 4   fuel_efficiency_mpg  9704 non-null   float64\n",
      "dtypes: float64(3), int64(2)\n",
      "memory usage: 379.2 KB\n"
     ]
    }
   ],
   "source": [
    "# Select only the required columns\n",
    "columns = ['engine_displacement', 'horsepower', 'vehicle_weight', 'model_year', 'fuel_efficiency_mpg']\n",
    "df = df[columns]\n",
    "\n",
    "print(f\"Selected dataset shape: {df.shape}\")\n",
    "df.info()"
   ]
  },
  {
   "cell_type": "code",
   "execution_count": 7,
   "id": "7a566a71-6254-4364-99d3-ff3e477c16c8",
   "metadata": {},
   "outputs": [
    {
     "name": "stdout",
     "output_type": "stream",
     "text": [
      "Missing values per column:\n",
      "engine_displacement      0\n",
      "horsepower             708\n",
      "vehicle_weight           0\n",
      "model_year               0\n",
      "fuel_efficiency_mpg      0\n",
      "dtype: int64\n"
     ]
    }
   ],
   "source": [
    "missing_values = df.isnull().sum()\n",
    "print(\"Missing values per column:\")\n",
    "print(missing_values)"
   ]
  },
  {
   "cell_type": "code",
   "execution_count": 8,
   "id": "f5a28e0f-f1fe-4db1-91b2-0bdc1011fa68",
   "metadata": {},
   "outputs": [
    {
     "name": "stdout",
     "output_type": "stream",
     "text": [
      "Median for horsepower: 149.0\n"
     ]
    }
   ],
   "source": [
    "horsepower_median = df['horsepower'].median()\n",
    "print(f\"Median for horsepower: {horsepower_median}\")"
   ]
  },
  {
   "cell_type": "code",
   "execution_count": 9,
   "id": "56d3abc1-2614-4514-b9e6-5974ea3e054b",
   "metadata": {},
   "outputs": [
    {
     "name": "stdout",
     "output_type": "stream",
     "text": [
      "Total records: 9704\n",
      "Train: 5824, Validation: 1940, Test: 1940\n"
     ]
    }
   ],
   "source": [
    "# Set up shuffling and splitting\n",
    "n = len(df)\n",
    "print(f'Total records: {n}')\n",
    "\n",
    "# Calculate split sizes (60%/20%/20%)\n",
    "n_val = int(n * 0.2)\n",
    "n_test = int(n * 0.2) \n",
    "n_train = n - n_val - n_test\n",
    "\n",
    "print(f'Train: {n_train}, Validation: {n_val}, Test: {n_test}')"
   ]
  },
  {
   "cell_type": "code",
   "execution_count": 10,
   "id": "c864236c-56a3-4e75-a95a-90997436cdba",
   "metadata": {},
   "outputs": [],
   "source": [
    "# Shuffle with seed 42\n",
    "np.random.seed(42)\n",
    "idx = np.arange(n)\n",
    "np.random.shuffle(idx)"
   ]
  },
  {
   "cell_type": "code",
   "execution_count": 11,
   "id": "14be84ad-334e-44a3-a16e-1cbaa33bdebe",
   "metadata": {},
   "outputs": [
    {
     "name": "stdout",
     "output_type": "stream",
     "text": [
      "\n",
      "Actual split sizes:\n",
      "Train: 5824, Validation: 1940, Test: 1940\n"
     ]
    }
   ],
   "source": [
    "# Split the data\n",
    "df_train = df.iloc[idx[:n_train]].reset_index(drop=True)\n",
    "df_val = df.iloc[idx[n_train:n_train+n_val]].reset_index(drop=True)\n",
    "df_test = df.iloc[idx[n_train+n_val:]].reset_index(drop=True)\n",
    "\n",
    "print(f'\\nActual split sizes:')\n",
    "print(f'Train: {len(df_train)}, Validation: {len(df_val)}, Test: {len(df_test)}')"
   ]
  },
  {
   "cell_type": "code",
   "execution_count": 12,
   "id": "42785e46-0fa4-400c-82ef-581be72ed947",
   "metadata": {},
   "outputs": [
    {
     "name": "stdout",
     "output_type": "stream",
     "text": [
      "Total after split: 9704\n",
      "\n",
      "First 3 rows of training set:\n",
      "   engine_displacement  horsepower  vehicle_weight  model_year  \\\n",
      "0                  220       144.0     2535.887591        2009   \n",
      "1                  160       141.0     2741.170484        2019   \n",
      "2                  230       155.0     2471.880237        2017   \n",
      "\n",
      "   fuel_efficiency_mpg  \n",
      "0            16.642943  \n",
      "1            16.298377  \n",
      "2            18.591822  \n"
     ]
    }
   ],
   "source": [
    "\n",
    "# Verify the split\n",
    "print(f'Total after split: {len(df_train) + len(df_val) + len(df_test)}')\n",
    "\n",
    "# Show first few rows of training set\n",
    "print('\\nFirst 3 rows of training set:')\n",
    "print(df_train.head(3))"
   ]
  },
  {
   "cell_type": "code",
   "execution_count": 13,
   "id": "e1a1d1b7-9e96-43e7-9924-517d4b33c64e",
   "metadata": {},
   "outputs": [],
   "source": [
    "def train_linear_regression(X, y):\n",
    "    \"\"\"Train linear regression using normal equation\"\"\"\n",
    "    ones = np.ones(X.shape[0])\n",
    "    X = np.column_stack([ones, X])\n",
    "    \n",
    "    XTX = X.T.dot(X)\n",
    "    XTX_inv = np.linalg.inv(XTX)\n",
    "    w_full = XTX_inv.dot(X.T).dot(y)\n",
    "    \n",
    "    return w_full[0], w_full[1:]  # return bias and weights\n",
    "\n",
    "def rmse(y_true, y_pred):\n",
    "    \"\"\"Calculate Root Mean Square Error\"\"\"\n",
    "    mse = np.mean((y_true - y_pred) ** 2)\n",
    "    return np.sqrt(mse)"
   ]
  },
  {
   "cell_type": "code",
   "execution_count": 14,
   "id": "a42a74bb-e069-45ed-967a-19383f2a0841",
   "metadata": {},
   "outputs": [
    {
     "name": "stdout",
     "output_type": "stream",
     "text": [
      "=== Option 1: Fill missing values with 0 ===\n",
      "RMSE with 0 fill: 0.52\n",
      "Model parameters: w0=28.8274, w=[ 9.93613218e-05  3.54221891e-03 -5.01328015e-03  3.42992869e-04]\n"
     ]
    }
   ],
   "source": [
    "# Option 1: Fill missing values with 0\n",
    "print(\"=== Option 1: Fill missing values with 0 ===\")\n",
    "\n",
    "# Prepare training data with 0 fill\n",
    "X_train_0 = df_train.copy()\n",
    "X_train_0['horsepower'] = X_train_0['horsepower'].fillna(0)\n",
    "\n",
    "# Prepare validation data with 0 fill  \n",
    "X_val_0 = df_val.copy()\n",
    "X_val_0['horsepower'] = X_val_0['horsepower'].fillna(0)\n",
    "\n",
    "# Use all features except target\n",
    "feature_columns = ['engine_displacement', 'horsepower', 'vehicle_weight', 'model_year']\n",
    "X_train_matrix_0 = X_train_0[feature_columns].values\n",
    "X_val_matrix_0 = X_val_0[feature_columns].values\n",
    "\n",
    "# Target variable\n",
    "y_train = df_train['fuel_efficiency_mpg'].values\n",
    "y_val = df_val['fuel_efficiency_mpg'].values\n",
    "\n",
    "# Train model\n",
    "w0_0, w_0 = train_linear_regression(X_train_matrix_0, y_train)\n",
    "\n",
    "# Make predictions\n",
    "y_pred_0 = w0_0 + X_val_matrix_0.dot(w_0)\n",
    "\n",
    "# Calculate RMSE\n",
    "rmse_0 = rmse(y_val, y_pred_0)\n",
    "rmse_0_rounded = round(rmse_0, 2)\n",
    "\n",
    "print(f\"RMSE with 0 fill: {rmse_0_rounded}\")\n",
    "print(f\"Model parameters: w0={w0_0:.4f}, w={w_0}\")"
   ]
  },
  {
   "cell_type": "code",
   "execution_count": 15,
   "id": "7ca9515c-4aae-4284-8fe5-99f914d2028b",
   "metadata": {},
   "outputs": [
    {
     "name": "stdout",
     "output_type": "stream",
     "text": [
      "\n",
      "=== Option 2: Fill missing values with mean ===\n",
      "Training set horsepower mean: 149.54\n",
      "RMSE with mean fill: 0.46\n",
      "Model parameters: w0=28.9253, w=[ 0.00012093  0.01030308 -0.00501009 -0.00023463]\n"
     ]
    }
   ],
   "source": [
    "# Option 2: Fill missing values with mean (computed from training set only)\n",
    "print(\"\\n=== Option 2: Fill missing values with mean ===\")\n",
    "\n",
    "# Calculate mean from training set only (excluding missing values)\n",
    "train_horsepower_mean = df_train['horsepower'].mean()\n",
    "print(f\"Training set horsepower mean: {train_horsepower_mean:.2f}\")\n",
    "\n",
    "# Prepare training data with mean fill\n",
    "X_train_mean = df_train.copy()\n",
    "X_train_mean['horsepower'] = X_train_mean['horsepower'].fillna(train_horsepower_mean)\n",
    "\n",
    "# Prepare validation data with same mean from training set\n",
    "X_val_mean = df_val.copy()\n",
    "X_val_mean['horsepower'] = X_val_mean['horsepower'].fillna(train_horsepower_mean)\n",
    "\n",
    "# Extract feature matrices\n",
    "X_train_matrix_mean = X_train_mean[feature_columns].values\n",
    "X_val_matrix_mean = X_val_mean[feature_columns].values\n",
    "\n",
    "# Train model\n",
    "w0_mean, w_mean = train_linear_regression(X_train_matrix_mean, y_train)\n",
    "\n",
    "# Make predictions\n",
    "y_pred_mean = w0_mean + X_val_matrix_mean.dot(w_mean)\n",
    "\n",
    "# Calculate RMSE\n",
    "rmse_mean = rmse(y_val, y_pred_mean)\n",
    "rmse_mean_rounded = round(rmse_mean, 2)\n",
    "\n",
    "print(f\"RMSE with mean fill: {rmse_mean_rounded}\")\n",
    "print(f\"Model parameters: w0={w0_mean:.4f}, w={w_mean}\")"
   ]
  },
  {
   "cell_type": "code",
   "execution_count": 16,
   "id": "16ead669-3fe5-4b7a-a08c-11108470f775",
   "metadata": {},
   "outputs": [
    {
     "name": "stdout",
     "output_type": "stream",
     "text": [
      "\n",
      "=== COMPARISON ===\n",
      "RMSE with 0 fill:    0.52\n",
      "RMSE with mean fill: 0.46\n",
      "\n",
      "Better option: With mean (RMSE: 0.46)\n",
      "\n",
      "ANSWER TO QUESTION 3: With mean\n"
     ]
    }
   ],
   "source": [
    "# Compare the results\n",
    "print(\"\\n=== COMPARISON ===\")\n",
    "print(f\"RMSE with 0 fill:    {rmse_0_rounded}\")\n",
    "print(f\"RMSE with mean fill: {rmse_mean_rounded}\")\n",
    "\n",
    "# Determine which is better\n",
    "if rmse_0_rounded < rmse_mean_rounded:\n",
    "    better_option = \"With 0\"\n",
    "    print(f\"\\nBetter option: With 0 (RMSE: {rmse_0_rounded})\")\n",
    "elif rmse_mean_rounded < rmse_0_rounded:\n",
    "    better_option = \"With mean\"\n",
    "    print(f\"\\nBetter option: With mean (RMSE: {rmse_mean_rounded})\")\n",
    "else:\n",
    "    better_option = \"Both are equally good\"\n",
    "    print(f\"\\nBoth options are equally good (RMSE: {rmse_0_rounded})\")\n",
    "\n",
    "print(f\"\\nANSWER TO QUESTION 3: {better_option}\")"
   ]
  },
  {
   "cell_type": "code",
   "execution_count": 17,
   "id": "954e36cd-bb92-42fb-94f0-876bfb7b3aaa",
   "metadata": {},
   "outputs": [],
   "source": [
    "def train_linear_regression_reg(X, y, r=0.0):\n",
    "    \"\"\"Train regularized linear regression using normal equation with regularization\"\"\"\n",
    "    ones = np.ones(X.shape[0])\n",
    "    X = np.column_stack([ones, X])\n",
    "    \n",
    "    XTX = X.T.dot(X)\n",
    "    XTX = XTX + r * np.eye(XTX.shape[0])  # Add regularization term\n",
    "    \n",
    "    XTX_inv = np.linalg.inv(XTX)\n",
    "    w_full = XTX_inv.dot(X.T).dot(y)\n",
    "    \n",
    "    return w_full[0], w_full[1:]  # return bias and weights"
   ]
  },
  {
   "cell_type": "code",
   "execution_count": 18,
   "id": "ed4f551b-0466-429d-a9ea-2fdc2458dc2f",
   "metadata": {},
   "outputs": [
    {
     "name": "stdout",
     "output_type": "stream",
     "text": [
      "=== Regularized Linear Regression ===\n",
      "Filling missing values with 0 as specified...\n",
      "Training set shape: (5824, 4)\n",
      "Validation set shape: (1940, 4)\n",
      "Features: ['engine_displacement', 'horsepower', 'vehicle_weight', 'model_year']\n"
     ]
    }
   ],
   "source": [
    "#Prepare data for regularized regression (fill NAs with 0)\n",
    "print(\"=== Regularized Linear Regression ===\")\n",
    "print(\"Filling missing values with 0 as specified...\")\n",
    "\n",
    "# Prepare training data with 0 fill\n",
    "X_train_reg = df_train.copy()\n",
    "X_train_reg['horsepower'] = X_train_reg['horsepower'].fillna(0)\n",
    "\n",
    "# Prepare validation data with 0 fill\n",
    "X_val_reg = df_val.copy() \n",
    "X_val_reg['horsepower'] = X_val_reg['horsepower'].fillna(0)\n",
    "\n",
    "# Extract feature matrices\n",
    "feature_columns = ['engine_displacement', 'horsepower', 'vehicle_weight', 'model_year']\n",
    "X_train_matrix_reg = X_train_reg[feature_columns].values\n",
    "X_val_matrix_reg = X_val_reg[feature_columns].values\n",
    "\n",
    "# Target variables\n",
    "y_train = df_train['fuel_efficiency_mpg'].values\n",
    "y_val = df_val['fuel_efficiency_mpg'].values\n",
    "\n",
    "print(f\"Training set shape: {X_train_matrix_reg.shape}\")\n",
    "print(f\"Validation set shape: {X_val_matrix_reg.shape}\")\n",
    "print(f\"Features: {feature_columns}\")"
   ]
  },
  {
   "cell_type": "code",
   "execution_count": 19,
   "id": "3baecf5c-9d03-4748-990b-56ce5baca3f8",
   "metadata": {},
   "outputs": [
    {
     "name": "stdout",
     "output_type": "stream",
     "text": [
      "\n",
      "=== Testing different regularization parameters ===\n",
      "r\t\tRMSE\n",
      "--------------------\n",
      "0\t\t0.52\n",
      "0.01\t\t0.52\n",
      "0.1\t\t0.52\n",
      "1\t\t0.52\n",
      "5\t\t0.52\n",
      "10\t\t0.52\n",
      "100\t\t0.52\n",
      "\n",
      "=== Results Summary ===\n",
      "r = 0: RMSE = 0.52\n",
      "r = 0.01: RMSE = 0.52\n",
      "r = 0.1: RMSE = 0.52\n",
      "r = 1: RMSE = 0.52\n",
      "r = 5: RMSE = 0.52\n",
      "r = 10: RMSE = 0.52\n",
      "r = 100: RMSE = 0.52\n"
     ]
    }
   ],
   "source": [
    "# Test different regularization parameters\n",
    "r_values = [0, 0.01, 0.1, 1, 5, 10, 100]\n",
    "results = []\n",
    "\n",
    "print(\"\\n=== Testing different regularization parameters ===\")\n",
    "print(\"r\\t\\tRMSE\")\n",
    "print(\"-\" * 20)\n",
    "\n",
    "for r in r_values:\n",
    "    # Train model with regularization\n",
    "    w0, w = train_linear_regression_reg(X_train_matrix_reg, y_train, r=r)\n",
    "    \n",
    "    # Make predictions on validation set\n",
    "    y_pred = w0 + X_val_matrix_reg.dot(w)\n",
    "    \n",
    "    # Calculate RMSE\n",
    "    rmse_score = rmse(y_val, y_pred)\n",
    "    rmse_rounded = round(rmse_score, 2)\n",
    "    \n",
    "    results.append((r, rmse_rounded))\n",
    "    print(f\"{r}\\t\\t{rmse_rounded}\")\n",
    "\n",
    "print(\"\\n=== Results Summary ===\")\n",
    "for r, rmse_score in results:\n",
    "    print(f\"r = {r}: RMSE = {rmse_score}\")"
   ]
  },
  {
   "cell_type": "code",
   "execution_count": 20,
   "id": "bb1daa66-ea3e-45d5-839a-cf8288f62773",
   "metadata": {},
   "outputs": [
    {
     "name": "stdout",
     "output_type": "stream",
     "text": [
      "\n",
      "=== Best Results ===\n",
      "Best RMSE: 0.52\n",
      "r values with best RMSE: [0, 0.01, 0.1, 1, 5, 10, 100]\n",
      "Selected r (smallest among best): 0\n",
      "\n",
      "ANSWER TO QUESTION 4: 0\n"
     ]
    }
   ],
   "source": [
    "# Find the best regularization parameter\n",
    "best_rmse = min(results, key=lambda x: x[1])[1]\n",
    "best_r_candidates = [r for r, rmse_score in results if rmse_score == best_rmse]\n",
    "\n",
    "print(f\"\\n=== Best Results ===\")\n",
    "print(f\"Best RMSE: {best_rmse}\")\n",
    "print(f\"r values with best RMSE: {best_r_candidates}\")\n",
    "\n",
    "# If multiple r values give the same best RMSE, select the smallest r\n",
    "best_r = min(best_r_candidates)\n",
    "print(f\"Selected r (smallest among best): {best_r}\")\n",
    "\n",
    "# Check if best_r is in the given options\n",
    "options = [0, 0.01, 1, 10, 100]\n",
    "if best_r in options:\n",
    "    print(f\"\\nANSWER TO QUESTION 4: {best_r}\")\n",
    "else:\n",
    "    # Find the option with best RMSE from the given choices\n",
    "    option_results = [(r, rmse_score) for r, rmse_score in results if r in options]\n",
    "    best_option_rmse = min(option_results, key=lambda x: x[1])[1]\n",
    "    best_option_candidates = [r for r, rmse_score in option_results if rmse_score == best_option_rmse]\n",
    "    best_option = min(best_option_candidates)\n",
    "    print(f\"\\nFrom given options, best r: {best_option} (RMSE: {best_option_rmse})\")\n",
    "    print(f\"ANSWER TO QUESTION 4: {best_option}\")"
   ]
  },
  {
   "cell_type": "code",
   "execution_count": 21,
   "id": "7c7944ff-4465-4a1d-9323-94f8043b7846",
   "metadata": {},
   "outputs": [
    {
     "name": "stdout",
     "output_type": "stream",
     "text": [
      "=== Testing different seeds for data splitting ===\n",
      "Seed\t\tRMSE\n",
      "-------------------------\n",
      "0\t\t0.520653\n",
      "1\t\t0.521339\n",
      "2\t\t0.522807\n",
      "3\t\t0.515952\n",
      "4\t\t0.510913\n",
      "5\t\t0.528341\n",
      "6\t\t0.531391\n",
      "7\t\t0.509067\n",
      "8\t\t0.514740\n",
      "9\t\t0.513187\n",
      "\n",
      "=== RMSE Scores for all seeds ===\n",
      "Seed 0: 0.520653\n",
      "Seed 1: 0.521339\n",
      "Seed 2: 0.522807\n",
      "Seed 3: 0.515952\n",
      "Seed 4: 0.510913\n",
      "Seed 5: 0.528341\n",
      "Seed 6: 0.531391\n",
      "Seed 7: 0.509067\n",
      "Seed 8: 0.514740\n",
      "Seed 9: 0.513187\n"
     ]
    }
   ],
   "source": [
    "# Test different seeds for data splitting\n",
    "seed_values = [0, 1, 2, 3, 4, 5, 6, 7, 8, 9]\n",
    "rmse_scores = []\n",
    "\n",
    "print(\"=== Testing different seeds for data splitting ===\")\n",
    "print(\"Seed\\t\\tRMSE\")\n",
    "print(\"-\" * 25)\n",
    "\n",
    "for seed in seed_values:\n",
    "    # Split data with current seed\n",
    "    n = len(df)\n",
    "    n_val = int(n * 0.2)\n",
    "    n_test = int(n * 0.2) \n",
    "    n_train = n - n_val - n_test\n",
    "    \n",
    "    np.random.seed(seed)\n",
    "    idx = np.arange(n)\n",
    "    np.random.shuffle(idx)\n",
    "    \n",
    "    df_train_seed = df.iloc[idx[:n_train]].reset_index(drop=True)\n",
    "    df_val_seed = df.iloc[idx[n_train:n_train+n_val]].reset_index(drop=True)\n",
    "    df_test_seed = df.iloc[idx[n_train+n_val:]].reset_index(drop=True)\n",
    "    \n",
    "    # Prepare data (fill missing values with 0)\n",
    "    X_train_seed = df_train_seed.copy()\n",
    "    X_train_seed['horsepower'] = X_train_seed['horsepower'].fillna(0)\n",
    "    \n",
    "    X_val_seed = df_val_seed.copy()\n",
    "    X_val_seed['horsepower'] = X_val_seed['horsepower'].fillna(0)\n",
    "    \n",
    "    # Extract feature matrices\n",
    "    feature_columns = ['engine_displacement', 'horsepower', 'vehicle_weight', 'model_year']\n",
    "    X_train_matrix = X_train_seed[feature_columns].values\n",
    "    X_val_matrix = X_val_seed[feature_columns].values\n",
    "    \n",
    "    # Target variables\n",
    "    y_train_seed = df_train_seed['fuel_efficiency_mpg'].values\n",
    "    y_val_seed = df_val_seed['fuel_efficiency_mpg'].values\n",
    "    \n",
    "    # Train model without regularization (r=0)\n",
    "    w0, w = train_linear_regression(X_train_matrix, y_train_seed)\n",
    "    \n",
    "    # Make predictions on validation set\n",
    "    y_pred = w0 + X_val_matrix.dot(w)\n",
    "    \n",
    "    # Calculate RMSE\n",
    "    rmse_score = rmse(y_val_seed, y_pred)\n",
    "    rmse_scores.append(rmse_score)\n",
    "    \n",
    "    print(f\"{seed}\\t\\t{rmse_score:.6f}\")\n",
    "\n",
    "print(f\"\\n=== RMSE Scores for all seeds ===\")\n",
    "for i, score in enumerate(rmse_scores):\n",
    "    print(f\"Seed {seed_values[i]}: {score:.6f}\")"
   ]
  },
  {
   "cell_type": "code",
   "execution_count": 22,
   "id": "cedfe1d3-13f0-40c0-bf3f-9eb6dd9d5717",
   "metadata": {},
   "outputs": [
    {
     "name": "stdout",
     "output_type": "stream",
     "text": [
      "\n",
      "=== Standard Deviation Calculation ===\n",
      "RMSE scores: [np.float64(0.520653), np.float64(0.521339), np.float64(0.522807), np.float64(0.515952), np.float64(0.510913), np.float64(0.528341), np.float64(0.531391), np.float64(0.509067), np.float64(0.51474), np.float64(0.513187)]\n",
      "Mean RMSE: 0.518839\n",
      "Standard deviation: 0.006989\n",
      "Standard deviation (rounded to 3 digits): 0.007\n",
      "\n",
      "Options: [0.001, 0.006, 0.06, 0.6]\n",
      "Closest option: 0.006\n",
      "\n",
      "ANSWER TO QUESTION 5: 0.007\n"
     ]
    }
   ],
   "source": [
    "# Calculate standard deviation of RMSE scores\n",
    "rmse_std = np.std(rmse_scores)\n",
    "rmse_std_rounded = round(rmse_std, 3)\n",
    "\n",
    "print(f\"\\n=== Standard Deviation Calculation ===\")\n",
    "print(f\"RMSE scores: {[round(score, 6) for score in rmse_scores]}\")\n",
    "print(f\"Mean RMSE: {np.mean(rmse_scores):.6f}\")\n",
    "print(f\"Standard deviation: {rmse_std:.6f}\")\n",
    "print(f\"Standard deviation (rounded to 3 digits): {rmse_std_rounded}\")\n",
    "\n",
    "# Check which option it matches\n",
    "options = [0.001, 0.006, 0.060, 0.600]\n",
    "closest_option = min(options, key=lambda x: abs(x - rmse_std_rounded))\n",
    "\n",
    "print(f\"\\nOptions: {options}\")\n",
    "print(f\"Closest option: {closest_option}\")\n",
    "print(f\"\\nANSWER TO QUESTION 5: {rmse_std_rounded}\")"
   ]
  },
  {
   "cell_type": "code",
   "execution_count": 23,
   "id": "88cb2845-dd29-46be-a821-04d0f27b9e9c",
   "metadata": {},
   "outputs": [
    {
     "name": "stdout",
     "output_type": "stream",
     "text": [
      "\n",
      "=== Detailed Analysis ===\n",
      "Exact standard deviation: 0.0069894464\n",
      "Rounded to 3 digits: 0.007\n",
      "\n",
      "Distance to each option:\n",
      "Distance to 0.001: 0.0059894464\n",
      "Distance to 0.006: 0.0009894464\n",
      "Distance to 0.06: 0.0530105536\n",
      "Distance to 0.6: 0.5930105536\n",
      "\n",
      "The exact value (0.006989) is closest to option: 0.006\n",
      "Although it rounds to 0.007, the closest given option is 0.006\n",
      "\n",
      "FINAL ANSWER TO QUESTION 5: 0.006\n"
     ]
    }
   ],
   "source": [
    "# Additional analysis for precision\n",
    "print(f\"\\n=== Detailed Analysis ===\")\n",
    "print(f\"Exact standard deviation: {rmse_std:.10f}\")\n",
    "print(f\"Rounded to 3 digits: {rmse_std_rounded}\")\n",
    "\n",
    "# Distance to each option\n",
    "options = [0.001, 0.006, 0.060, 0.600]\n",
    "print(f\"\\nDistance to each option:\")\n",
    "for option in options:\n",
    "    distance = abs(rmse_std - option)\n",
    "    print(f\"Distance to {option}: {distance:.10f}\")\n",
    "\n",
    "print(f\"\\nThe exact value ({rmse_std:.6f}) is closest to option: {closest_option}\")\n",
    "print(f\"Although it rounds to {rmse_std_rounded}, the closest given option is {closest_option}\")\n",
    "\n",
    "print(f\"\\nFINAL ANSWER TO QUESTION 5: {closest_option}\")"
   ]
  },
  {
   "cell_type": "code",
   "execution_count": 24,
   "id": "7560ff83-f344-4305-9707-34183f8a996a",
   "metadata": {},
   "outputs": [
    {
     "name": "stdout",
     "output_type": "stream",
     "text": [
      "=== Final Model Training and Evaluation ===\n",
      "Using seed 9 for data splitting...\n",
      "Train set size: 5824\n",
      "Validation set size: 1940\n",
      "Test set size: 1940\n",
      "\n",
      "Combining train and validation datasets...\n",
      "Combined training set size: 7764\n",
      "Test set size: 1940\n"
     ]
    }
   ],
   "source": [
    "# Step 1: Split dataset with seed 9\n",
    "print(\"=== Final Model Training and Evaluation ===\")\n",
    "print(\"Using seed 9 for data splitting...\")\n",
    "\n",
    "seed = 9\n",
    "n = len(df)\n",
    "n_val = int(n * 0.2)\n",
    "n_test = int(n * 0.2) \n",
    "n_train = n - n_val - n_test\n",
    "\n",
    "np.random.seed(seed)\n",
    "idx = np.arange(n)\n",
    "np.random.shuffle(idx)\n",
    "\n",
    "df_train_final = df.iloc[idx[:n_train]].reset_index(drop=True)\n",
    "df_val_final = df.iloc[idx[n_train:n_train+n_val]].reset_index(drop=True)\n",
    "df_test_final = df.iloc[idx[n_train+n_val:]].reset_index(drop=True)\n",
    "\n",
    "print(f\"Train set size: {len(df_train_final)}\")\n",
    "print(f\"Validation set size: {len(df_val_final)}\")\n",
    "print(f\"Test set size: {len(df_test_final)}\")\n",
    "\n",
    "# Step 2: Combine train and validation datasets\n",
    "print(f\"\\nCombining train and validation datasets...\")\n",
    "df_full_train = pd.concat([df_train_final, df_val_final], ignore_index=True)\n",
    "print(f\"Combined training set size: {len(df_full_train)}\")\n",
    "print(f\"Test set size: {len(df_test_final)}\")"
   ]
  },
  {
   "cell_type": "code",
   "execution_count": 25,
   "id": "c80bbcf2-1cc7-438d-a929-e8e7ec0cf3c0",
   "metadata": {},
   "outputs": [
    {
     "name": "stdout",
     "output_type": "stream",
     "text": [
      "\n",
      "Preparing data (filling missing values with 0)...\n",
      "Full training set shape: (7764, 4)\n",
      "Test set shape: (1940, 4)\n",
      "Features used: ['engine_displacement', 'horsepower', 'vehicle_weight', 'model_year']\n",
      "\n",
      "Missing values in full training set:\n",
      "Before filling: engine_displacement      0\n",
      "horsepower             563\n",
      "vehicle_weight           0\n",
      "model_year               0\n",
      "fuel_efficiency_mpg      0\n",
      "dtype: int64\n",
      "After filling: engine_displacement    0\n",
      "horsepower             0\n",
      "vehicle_weight         0\n",
      "model_year             0\n",
      "fuel_efficiency_mpg    0\n",
      "dtype: int64\n",
      "\n",
      "Missing values in test set:\n",
      "Before filling: engine_displacement      0\n",
      "horsepower             145\n",
      "vehicle_weight           0\n",
      "model_year               0\n",
      "fuel_efficiency_mpg      0\n",
      "dtype: int64\n",
      "After filling: engine_displacement    0\n",
      "horsepower             0\n",
      "vehicle_weight         0\n",
      "model_year             0\n",
      "fuel_efficiency_mpg    0\n",
      "dtype: int64\n"
     ]
    }
   ],
   "source": [
    "# Step 3: Prepare data (fill missing values with 0)\n",
    "print(f\"\\nPreparing data (filling missing values with 0)...\")\n",
    "\n",
    "# Prepare combined training data\n",
    "X_full_train = df_full_train.copy()\n",
    "X_full_train['horsepower'] = X_full_train['horsepower'].fillna(0)\n",
    "\n",
    "# Prepare test data  \n",
    "X_test_final = df_test_final.copy()\n",
    "X_test_final['horsepower'] = X_test_final['horsepower'].fillna(0)\n",
    "\n",
    "# Extract feature matrices\n",
    "feature_columns = ['engine_displacement', 'horsepower', 'vehicle_weight', 'model_year']\n",
    "X_full_train_matrix = X_full_train[feature_columns].values\n",
    "X_test_matrix = X_test_final[feature_columns].values\n",
    "\n",
    "# Target variables\n",
    "y_full_train = df_full_train['fuel_efficiency_mpg'].values\n",
    "y_test_final = df_test_final['fuel_efficiency_mpg'].values\n",
    "\n",
    "print(f\"Full training set shape: {X_full_train_matrix.shape}\")\n",
    "print(f\"Test set shape: {X_test_matrix.shape}\")\n",
    "print(f\"Features used: {feature_columns}\")\n",
    "\n",
    "# Check for missing values\n",
    "print(f\"\\nMissing values in full training set:\")\n",
    "print(f\"Before filling: {df_full_train.isnull().sum()}\")\n",
    "print(f\"After filling: {X_full_train.isnull().sum()}\")\n",
    "\n",
    "print(f\"\\nMissing values in test set:\")\n",
    "print(f\"Before filling: {df_test_final.isnull().sum()}\")\n",
    "print(f\"After filling: {X_test_final.isnull().sum()}\")"
   ]
  },
  {
   "cell_type": "code",
   "execution_count": 26,
   "id": "753ef09f-88f8-45b3-9af1-8583b56d22d7",
   "metadata": {},
   "outputs": [
    {
     "name": "stdout",
     "output_type": "stream",
     "text": [
      "\n",
      "Training regularized linear regression with r=0.001...\n",
      "Model trained with regularization parameter: 0.001\n",
      "Model bias (w0): 26.946835\n",
      "Model weights shape: (4,)\n",
      "Model weights: [ 1.45147512e-05  3.56475200e-03 -5.01712541e-03  1.29155334e-03]\n",
      "\n",
      "Making predictions on test set...\n",
      "\n",
      "=== Final Results ===\n",
      "RMSE on test set: 0.515626\n",
      "RMSE on test set (rounded to 3 digits): 0.516\n",
      "\n",
      "Options: [0.15, 0.515, 5.15, 51.5]\n",
      "Closest option: 0.515\n",
      "\n",
      "ANSWER TO QUESTION 6: 0.515\n"
     ]
    }
   ],
   "source": [
    "# Step 4: Train model with regularization r=0.001\n",
    "print(f\"\\nTraining regularized linear regression with r=0.001...\")\n",
    "\n",
    "r = 0.001\n",
    "w0, w = train_linear_regression_reg(X_full_train_matrix, y_full_train, r=r)\n",
    "\n",
    "print(f\"Model trained with regularization parameter: {r}\")\n",
    "print(f\"Model bias (w0): {w0:.6f}\")\n",
    "print(f\"Model weights shape: {w.shape}\")\n",
    "print(f\"Model weights: {w}\")\n",
    "\n",
    "# Step 5: Make predictions on test set\n",
    "print(f\"\\nMaking predictions on test set...\")\n",
    "y_pred_test = w0 + X_test_matrix.dot(w)\n",
    "\n",
    "# Step 6: Calculate RMSE on test set\n",
    "test_rmse = rmse(y_test_final, y_pred_test)\n",
    "test_rmse_rounded = round(test_rmse, 3)\n",
    "\n",
    "print(f\"\\n=== Final Results ===\")\n",
    "print(f\"RMSE on test set: {test_rmse:.6f}\")\n",
    "print(f\"RMSE on test set (rounded to 3 digits): {test_rmse_rounded}\")\n",
    "\n",
    "# Check which option it matches\n",
    "options = [0.15, 0.515, 5.15, 51.5]\n",
    "closest_option = min(options, key=lambda x: abs(x - test_rmse))\n",
    "\n",
    "print(f\"\\nOptions: {options}\")\n",
    "print(f\"Closest option: {closest_option}\")\n",
    "print(f\"\\nANSWER TO QUESTION 6: {closest_option}\")"
   ]
  },
  {
   "cell_type": "code",
   "execution_count": null,
   "id": "033301f8-6214-4ceb-833f-78f6691522d0",
   "metadata": {},
   "outputs": [],
   "source": []
  }
 ],
 "metadata": {
  "kernelspec": {
   "display_name": "Python 3 (ipykernel)",
   "language": "python",
   "name": "python3"
  },
  "language_info": {
   "codemirror_mode": {
    "name": "ipython",
    "version": 3
   },
   "file_extension": ".py",
   "mimetype": "text/x-python",
   "name": "python",
   "nbconvert_exporter": "python",
   "pygments_lexer": "ipython3",
   "version": "3.12.1"
  }
 },
 "nbformat": 4,
 "nbformat_minor": 5
}
